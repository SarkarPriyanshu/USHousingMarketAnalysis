{
  "nbformat": 4,
  "nbformat_minor": 0,
  "metadata": {
    "colab": {
      "provenance": [],
      "authorship_tag": "ABX9TyOh0FT2KU0cc/DbcVMOhKgn",
      "include_colab_link": true
    },
    "kernelspec": {
      "name": "python3",
      "display_name": "Python 3"
    },
    "language_info": {
      "name": "python"
    }
  },
  "cells": [
    {
      "cell_type": "markdown",
      "metadata": {
        "id": "view-in-github",
        "colab_type": "text"
      },
      "source": [
        "<a href=\"https://colab.research.google.com/github/SarkarPriyanshu/USHousingMarketAnalysis/blob/main/01_Data_Collection_and_Preparation.ipynb\" target=\"_parent\"><img src=\"https://colab.research.google.com/assets/colab-badge.svg\" alt=\"Open In Colab\"/></a>"
      ]
    },
    {
      "cell_type": "code",
      "source": [
        "from google.colab import drive\n",
        "drive.mount('/content/drive')"
      ],
      "metadata": {
        "colab": {
          "base_uri": "https://localhost:8080/"
        },
        "id": "cLCAQa-GPq25",
        "outputId": "830b7d39-bcaf-42d6-ff34-15018a101002"
      },
      "execution_count": 1,
      "outputs": [
        {
          "output_type": "stream",
          "name": "stdout",
          "text": [
            "Mounted at /content/drive\n"
          ]
        }
      ]
    },
    {
      "cell_type": "code",
      "execution_count": 2,
      "metadata": {
        "id": "84GOjnpsiji9"
      },
      "outputs": [],
      "source": [
        "import pandas as pd\n",
        "from functools import reduce"
      ]
    },
    {
      "cell_type": "markdown",
      "source": [
        "*  CSUSHPISA (S&P/Case-Shiller U.S. National Home Price Index):\n",
        "\n",
        " - This index measures changes in the prices of residential properties in the United States.\n",
        " - It provides an indication of the overall movement or trend in home prices over time.\n",
        " - Unit: Indexed value (Jan 2000 = 100, Seasonally Adjusted)\n",
        " - Source : https://fred.stlouisfed.org/series/CSUSHPISA"
      ],
      "metadata": {
        "id": "hls3kr3UWO9S"
      }
    },
    {
      "cell_type": "code",
      "source": [
        "CSUSHPISA  = pd.read_csv('/content/drive/MyDrive/UShomePriceExcels/CSUSHPISA.csv')"
      ],
      "metadata": {
        "id": "iHD0vrJ2oIG3"
      },
      "execution_count": 3,
      "outputs": []
    },
    {
      "cell_type": "markdown",
      "source": [
        "*  EVACANTUSQ176N (Housing Inventory Estimate: Vacant Housing Units in the United States):\n",
        "\n",
        "  - This estimates the number of vacant housing units across the United States.\n",
        "  - It gives an idea of the available housing that is not currently occupied.\n",
        "  - Unit: Thousands of Units (Not Seasonally Adjusted)\n",
        "  - Source :  https://fred.stlouisfed.org/series/EVACANTUSQ176N"
      ],
      "metadata": {
        "id": "LjtVtpfIr19O"
      }
    },
    {
      "cell_type": "code",
      "source": [
        "EVACANTUSQ176N  = pd.read_csv('/content/drive/MyDrive/UShomePriceExcels/EVACANTUSQ176N.csv')"
      ],
      "metadata": {
        "id": "ocbVkYVlpJ09"
      },
      "execution_count": 4,
      "outputs": []
    },
    {
      "cell_type": "markdown",
      "source": [
        "*  GDP (Gross Domestic Product):\n",
        "\n",
        " - Measures the total value of goods and services produced in the US.\n",
        " - A growing GDP usually indicates a healthy economy, potentially leading to higher incomes and increased housing demand.\n",
        " - Unit: Billions of Dollars (Seasonally Adjusted Annual Rate)\n",
        " - Source : https://fred.stlouisfed.org/series/GDP\n"
      ],
      "metadata": {
        "id": "9oSrKg-_Wu2w"
      }
    },
    {
      "cell_type": "code",
      "source": [
        "GDP = pd.read_csv('/content/drive/MyDrive/UShomePriceExcels/GDP.csv')"
      ],
      "metadata": {
        "id": "VLxEIIEATGjO"
      },
      "execution_count": 5,
      "outputs": []
    },
    {
      "cell_type": "markdown",
      "source": [
        "* INTDSRUSM193N (Interest Rates, Discount Rate for United States):\n",
        "\n",
        " - Indicates the interest rates or discount rates in the United States.\n",
        " - Higher rates can potentially reduce affordability and decrease demand for borrowing, impacting home buying activity.\n",
        " - Unit: Billions of Dollars (Seasonally Adjusted Annual Rate)\n",
        " - Source :  https://fred.stlouisfed.org/series/INTDSRUSM193N\n"
      ],
      "metadata": {
        "id": "U3WiDuAoXOrP"
      }
    },
    {
      "cell_type": "code",
      "source": [
        "INTDSRUSM193N = pd.read_csv('/content/drive/MyDrive/UShomePriceExcels/INTDSRUSM193N.csv')"
      ],
      "metadata": {
        "id": "IyZLWlQJTMNl"
      },
      "execution_count": 6,
      "outputs": []
    },
    {
      "cell_type": "markdown",
      "source": [
        "* MSACSR (Monthly Supply of New Houses in the United States):\n",
        "\n",
        " - This measures the monthly supply of new houses across the entire United States.\n",
        " - It indicates the number of new houses available in the market.\n",
        " - Unit: Seasonally Adjusted Value\n",
        " - Source : https://fred.stlouisfed.org/series/MSACSR"
      ],
      "metadata": {
        "id": "XXHp7NS_VAtA"
      }
    },
    {
      "cell_type": "code",
      "source": [
        "MSACSR = pd.read_csv('/content/drive/MyDrive/UShomePriceExcels/MSACSR.csv')"
      ],
      "metadata": {
        "id": "Jz_aKbGvTYKt"
      },
      "execution_count": 7,
      "outputs": []
    },
    {
      "cell_type": "markdown",
      "source": [
        "* PERMIT (New Privately-Owned Housing Units Authorized in Permit-Issuing Places):\n",
        "\n",
        "  - This measures the number of new housing units authorized by permits in specific areas.\n",
        "  - It indicates the planned construction of new homes in a given area.\n",
        "  - Unit: Thousands of Units (Seasonally Adjusted Annual Rate)\n",
        "  - Source: https://fred.stlouisfed.org/searchresults/?st=PERMIT"
      ],
      "metadata": {
        "id": "36nB9wKvUgwR"
      }
    },
    {
      "cell_type": "code",
      "source": [
        "PERMIT = pd.read_csv('/content/drive/MyDrive/UShomePriceExcels/PERMIT.csv')"
      ],
      "metadata": {
        "id": "82v1m4cBTdq4"
      },
      "execution_count": 8,
      "outputs": []
    },
    {
      "cell_type": "markdown",
      "source": [
        "* UMCSENT (University of Michigan: Consumer Sentiment):\n",
        "\n",
        " - Reflects consumer sentiment or confidence about the economy and their financial situation.\n",
        " - Higher consumer sentiment often correlates with increased willingness to make major purchases, including homes.\n",
        " - Source : https://fred.stlouisfed.org/series/UMCSENT"
      ],
      "metadata": {
        "id": "12c32CMMVq2d"
      }
    },
    {
      "cell_type": "code",
      "source": [
        "UMCSENT = pd.read_csv('/content/drive/MyDrive/UShomePriceExcels/UMCSENT.csv')"
      ],
      "metadata": {
        "id": "CiKD4Qk7Tpa1"
      },
      "execution_count": 9,
      "outputs": []
    },
    {
      "cell_type": "markdown",
      "source": [
        "### Merging DataFrames on 'DATE' Column Using Inner Join\n",
        "\n",
        "I am planning to merge multiple DataFrames based on a common column called 'DATE' using an inner join operation. This process aims to combine the data from different sources while retaining only the rows where the 'DATE' column values are present in all DataFrames.\n",
        "\n",
        "#### Steps:\n",
        "\n",
        "1. **DataFrames to Merge:**\n",
        "   - I have several DataFrames, each containing information relevant to specific time periods, all sharing a common column named 'DATE'.\n",
        "  \n",
        "2. **Inner Join:**\n",
        "   - I intend to use the inner join method to merge these DataFrames.\n",
        "   - The inner join will retain only the rows where the 'DATE' values are common across all DataFrames being merged.\n",
        "\n",
        "3. **Consolidating Information:**\n",
        "   - By merging based on the 'DATE' column, I aim to consolidate information from multiple sources into a single comprehensive DataFrame.\n",
        "   - This consolidated DataFrame will contain aligned data across all sources for the overlapping time periods.\n"
      ],
      "metadata": {
        "id": "Vyj4BZT9uELK"
      }
    },
    {
      "cell_type": "code",
      "source": [
        "dfs = [CSUSHPISA, EVACANTUSQ176N, GDP, INTDSRUSM193N, MSACSR, PERMIT, UMCSENT]\n",
        "\n",
        "final_merged_df = reduce(lambda left, right: pd.merge(left, right, on='DATE', how='inner'), dfs)"
      ],
      "metadata": {
        "id": "ZYoxYTJYuFA2"
      },
      "execution_count": 10,
      "outputs": []
    },
    {
      "cell_type": "code",
      "source": [
        "final_merged_df.shape"
      ],
      "metadata": {
        "colab": {
          "base_uri": "https://localhost:8080/"
        },
        "id": "U2ZCAaRSu2vJ",
        "outputId": "69e8739e-1c82-43c1-cf32-6c3707ac43c1"
      },
      "execution_count": 11,
      "outputs": [
        {
          "output_type": "execute_result",
          "data": {
            "text/plain": [
              "(86, 8)"
            ]
          },
          "metadata": {},
          "execution_count": 11
        }
      ]
    },
    {
      "cell_type": "code",
      "source": [
        "final_merged_df.sample(5)"
      ],
      "metadata": {
        "colab": {
          "base_uri": "https://localhost:8080/",
          "height": 206
        },
        "id": "5m5Qp3hvu41d",
        "outputId": "cbf6c9ab-0ef0-4062-d19f-2bd501646994"
      },
      "execution_count": 12,
      "outputs": [
        {
          "output_type": "execute_result",
          "data": {
            "text/plain": [
              "          DATE  CSUSHPISA  EVACANTUSQ176N        GDP  INTDSRUSM193N  MSACSR  \\\n",
              "81  2020-07-01    219.322         14248.0  21647.640           0.25     3.4   \n",
              "39  2010-01-01    147.396         19126.0  14764.610           0.50     8.1   \n",
              "49  2012-07-01    141.669         18149.0  16319.541           0.75     4.6   \n",
              "85  2021-07-01    262.707         15208.0  23828.973           0.25     5.7   \n",
              "45  2011-07-01    139.730         18803.0  15647.680           0.75     6.7   \n",
              "\n",
              "    PERMIT UMCSENT  \n",
              "81  1526.0    72.5  \n",
              "39   636.0    74.4  \n",
              "49   849.0    72.3  \n",
              "85  1618.0    81.2  \n",
              "45   621.0    63.7  "
            ],
            "text/html": [
              "\n",
              "  <div id=\"df-886526ed-7714-4059-943b-ddc3c26389d0\" class=\"colab-df-container\">\n",
              "    <div>\n",
              "<style scoped>\n",
              "    .dataframe tbody tr th:only-of-type {\n",
              "        vertical-align: middle;\n",
              "    }\n",
              "\n",
              "    .dataframe tbody tr th {\n",
              "        vertical-align: top;\n",
              "    }\n",
              "\n",
              "    .dataframe thead th {\n",
              "        text-align: right;\n",
              "    }\n",
              "</style>\n",
              "<table border=\"1\" class=\"dataframe\">\n",
              "  <thead>\n",
              "    <tr style=\"text-align: right;\">\n",
              "      <th></th>\n",
              "      <th>DATE</th>\n",
              "      <th>CSUSHPISA</th>\n",
              "      <th>EVACANTUSQ176N</th>\n",
              "      <th>GDP</th>\n",
              "      <th>INTDSRUSM193N</th>\n",
              "      <th>MSACSR</th>\n",
              "      <th>PERMIT</th>\n",
              "      <th>UMCSENT</th>\n",
              "    </tr>\n",
              "  </thead>\n",
              "  <tbody>\n",
              "    <tr>\n",
              "      <th>81</th>\n",
              "      <td>2020-07-01</td>\n",
              "      <td>219.322</td>\n",
              "      <td>14248.0</td>\n",
              "      <td>21647.640</td>\n",
              "      <td>0.25</td>\n",
              "      <td>3.4</td>\n",
              "      <td>1526.0</td>\n",
              "      <td>72.5</td>\n",
              "    </tr>\n",
              "    <tr>\n",
              "      <th>39</th>\n",
              "      <td>2010-01-01</td>\n",
              "      <td>147.396</td>\n",
              "      <td>19126.0</td>\n",
              "      <td>14764.610</td>\n",
              "      <td>0.50</td>\n",
              "      <td>8.1</td>\n",
              "      <td>636.0</td>\n",
              "      <td>74.4</td>\n",
              "    </tr>\n",
              "    <tr>\n",
              "      <th>49</th>\n",
              "      <td>2012-07-01</td>\n",
              "      <td>141.669</td>\n",
              "      <td>18149.0</td>\n",
              "      <td>16319.541</td>\n",
              "      <td>0.75</td>\n",
              "      <td>4.6</td>\n",
              "      <td>849.0</td>\n",
              "      <td>72.3</td>\n",
              "    </tr>\n",
              "    <tr>\n",
              "      <th>85</th>\n",
              "      <td>2021-07-01</td>\n",
              "      <td>262.707</td>\n",
              "      <td>15208.0</td>\n",
              "      <td>23828.973</td>\n",
              "      <td>0.25</td>\n",
              "      <td>5.7</td>\n",
              "      <td>1618.0</td>\n",
              "      <td>81.2</td>\n",
              "    </tr>\n",
              "    <tr>\n",
              "      <th>45</th>\n",
              "      <td>2011-07-01</td>\n",
              "      <td>139.730</td>\n",
              "      <td>18803.0</td>\n",
              "      <td>15647.680</td>\n",
              "      <td>0.75</td>\n",
              "      <td>6.7</td>\n",
              "      <td>621.0</td>\n",
              "      <td>63.7</td>\n",
              "    </tr>\n",
              "  </tbody>\n",
              "</table>\n",
              "</div>\n",
              "    <div class=\"colab-df-buttons\">\n",
              "\n",
              "  <div class=\"colab-df-container\">\n",
              "    <button class=\"colab-df-convert\" onclick=\"convertToInteractive('df-886526ed-7714-4059-943b-ddc3c26389d0')\"\n",
              "            title=\"Convert this dataframe to an interactive table.\"\n",
              "            style=\"display:none;\">\n",
              "\n",
              "  <svg xmlns=\"http://www.w3.org/2000/svg\" height=\"24px\" viewBox=\"0 -960 960 960\">\n",
              "    <path d=\"M120-120v-720h720v720H120Zm60-500h600v-160H180v160Zm220 220h160v-160H400v160Zm0 220h160v-160H400v160ZM180-400h160v-160H180v160Zm440 0h160v-160H620v160ZM180-180h160v-160H180v160Zm440 0h160v-160H620v160Z\"/>\n",
              "  </svg>\n",
              "    </button>\n",
              "\n",
              "  <style>\n",
              "    .colab-df-container {\n",
              "      display:flex;\n",
              "      gap: 12px;\n",
              "    }\n",
              "\n",
              "    .colab-df-convert {\n",
              "      background-color: #E8F0FE;\n",
              "      border: none;\n",
              "      border-radius: 50%;\n",
              "      cursor: pointer;\n",
              "      display: none;\n",
              "      fill: #1967D2;\n",
              "      height: 32px;\n",
              "      padding: 0 0 0 0;\n",
              "      width: 32px;\n",
              "    }\n",
              "\n",
              "    .colab-df-convert:hover {\n",
              "      background-color: #E2EBFA;\n",
              "      box-shadow: 0px 1px 2px rgba(60, 64, 67, 0.3), 0px 1px 3px 1px rgba(60, 64, 67, 0.15);\n",
              "      fill: #174EA6;\n",
              "    }\n",
              "\n",
              "    .colab-df-buttons div {\n",
              "      margin-bottom: 4px;\n",
              "    }\n",
              "\n",
              "    [theme=dark] .colab-df-convert {\n",
              "      background-color: #3B4455;\n",
              "      fill: #D2E3FC;\n",
              "    }\n",
              "\n",
              "    [theme=dark] .colab-df-convert:hover {\n",
              "      background-color: #434B5C;\n",
              "      box-shadow: 0px 1px 3px 1px rgba(0, 0, 0, 0.15);\n",
              "      filter: drop-shadow(0px 1px 2px rgba(0, 0, 0, 0.3));\n",
              "      fill: #FFFFFF;\n",
              "    }\n",
              "  </style>\n",
              "\n",
              "    <script>\n",
              "      const buttonEl =\n",
              "        document.querySelector('#df-886526ed-7714-4059-943b-ddc3c26389d0 button.colab-df-convert');\n",
              "      buttonEl.style.display =\n",
              "        google.colab.kernel.accessAllowed ? 'block' : 'none';\n",
              "\n",
              "      async function convertToInteractive(key) {\n",
              "        const element = document.querySelector('#df-886526ed-7714-4059-943b-ddc3c26389d0');\n",
              "        const dataTable =\n",
              "          await google.colab.kernel.invokeFunction('convertToInteractive',\n",
              "                                                    [key], {});\n",
              "        if (!dataTable) return;\n",
              "\n",
              "        const docLinkHtml = 'Like what you see? Visit the ' +\n",
              "          '<a target=\"_blank\" href=https://colab.research.google.com/notebooks/data_table.ipynb>data table notebook</a>'\n",
              "          + ' to learn more about interactive tables.';\n",
              "        element.innerHTML = '';\n",
              "        dataTable['output_type'] = 'display_data';\n",
              "        await google.colab.output.renderOutput(dataTable, element);\n",
              "        const docLink = document.createElement('div');\n",
              "        docLink.innerHTML = docLinkHtml;\n",
              "        element.appendChild(docLink);\n",
              "      }\n",
              "    </script>\n",
              "  </div>\n",
              "\n",
              "\n",
              "<div id=\"df-1cca81bf-2429-4b80-886a-8476427bdee5\">\n",
              "  <button class=\"colab-df-quickchart\" onclick=\"quickchart('df-1cca81bf-2429-4b80-886a-8476427bdee5')\"\n",
              "            title=\"Suggest charts\"\n",
              "            style=\"display:none;\">\n",
              "\n",
              "<svg xmlns=\"http://www.w3.org/2000/svg\" height=\"24px\"viewBox=\"0 0 24 24\"\n",
              "     width=\"24px\">\n",
              "    <g>\n",
              "        <path d=\"M19 3H5c-1.1 0-2 .9-2 2v14c0 1.1.9 2 2 2h14c1.1 0 2-.9 2-2V5c0-1.1-.9-2-2-2zM9 17H7v-7h2v7zm4 0h-2V7h2v10zm4 0h-2v-4h2v4z\"/>\n",
              "    </g>\n",
              "</svg>\n",
              "  </button>\n",
              "\n",
              "<style>\n",
              "  .colab-df-quickchart {\n",
              "      --bg-color: #E8F0FE;\n",
              "      --fill-color: #1967D2;\n",
              "      --hover-bg-color: #E2EBFA;\n",
              "      --hover-fill-color: #174EA6;\n",
              "      --disabled-fill-color: #AAA;\n",
              "      --disabled-bg-color: #DDD;\n",
              "  }\n",
              "\n",
              "  [theme=dark] .colab-df-quickchart {\n",
              "      --bg-color: #3B4455;\n",
              "      --fill-color: #D2E3FC;\n",
              "      --hover-bg-color: #434B5C;\n",
              "      --hover-fill-color: #FFFFFF;\n",
              "      --disabled-bg-color: #3B4455;\n",
              "      --disabled-fill-color: #666;\n",
              "  }\n",
              "\n",
              "  .colab-df-quickchart {\n",
              "    background-color: var(--bg-color);\n",
              "    border: none;\n",
              "    border-radius: 50%;\n",
              "    cursor: pointer;\n",
              "    display: none;\n",
              "    fill: var(--fill-color);\n",
              "    height: 32px;\n",
              "    padding: 0;\n",
              "    width: 32px;\n",
              "  }\n",
              "\n",
              "  .colab-df-quickchart:hover {\n",
              "    background-color: var(--hover-bg-color);\n",
              "    box-shadow: 0 1px 2px rgba(60, 64, 67, 0.3), 0 1px 3px 1px rgba(60, 64, 67, 0.15);\n",
              "    fill: var(--button-hover-fill-color);\n",
              "  }\n",
              "\n",
              "  .colab-df-quickchart-complete:disabled,\n",
              "  .colab-df-quickchart-complete:disabled:hover {\n",
              "    background-color: var(--disabled-bg-color);\n",
              "    fill: var(--disabled-fill-color);\n",
              "    box-shadow: none;\n",
              "  }\n",
              "\n",
              "  .colab-df-spinner {\n",
              "    border: 2px solid var(--fill-color);\n",
              "    border-color: transparent;\n",
              "    border-bottom-color: var(--fill-color);\n",
              "    animation:\n",
              "      spin 1s steps(1) infinite;\n",
              "  }\n",
              "\n",
              "  @keyframes spin {\n",
              "    0% {\n",
              "      border-color: transparent;\n",
              "      border-bottom-color: var(--fill-color);\n",
              "      border-left-color: var(--fill-color);\n",
              "    }\n",
              "    20% {\n",
              "      border-color: transparent;\n",
              "      border-left-color: var(--fill-color);\n",
              "      border-top-color: var(--fill-color);\n",
              "    }\n",
              "    30% {\n",
              "      border-color: transparent;\n",
              "      border-left-color: var(--fill-color);\n",
              "      border-top-color: var(--fill-color);\n",
              "      border-right-color: var(--fill-color);\n",
              "    }\n",
              "    40% {\n",
              "      border-color: transparent;\n",
              "      border-right-color: var(--fill-color);\n",
              "      border-top-color: var(--fill-color);\n",
              "    }\n",
              "    60% {\n",
              "      border-color: transparent;\n",
              "      border-right-color: var(--fill-color);\n",
              "    }\n",
              "    80% {\n",
              "      border-color: transparent;\n",
              "      border-right-color: var(--fill-color);\n",
              "      border-bottom-color: var(--fill-color);\n",
              "    }\n",
              "    90% {\n",
              "      border-color: transparent;\n",
              "      border-bottom-color: var(--fill-color);\n",
              "    }\n",
              "  }\n",
              "</style>\n",
              "\n",
              "  <script>\n",
              "    async function quickchart(key) {\n",
              "      const quickchartButtonEl =\n",
              "        document.querySelector('#' + key + ' button');\n",
              "      quickchartButtonEl.disabled = true;  // To prevent multiple clicks.\n",
              "      quickchartButtonEl.classList.add('colab-df-spinner');\n",
              "      try {\n",
              "        const charts = await google.colab.kernel.invokeFunction(\n",
              "            'suggestCharts', [key], {});\n",
              "      } catch (error) {\n",
              "        console.error('Error during call to suggestCharts:', error);\n",
              "      }\n",
              "      quickchartButtonEl.classList.remove('colab-df-spinner');\n",
              "      quickchartButtonEl.classList.add('colab-df-quickchart-complete');\n",
              "    }\n",
              "    (() => {\n",
              "      let quickchartButtonEl =\n",
              "        document.querySelector('#df-1cca81bf-2429-4b80-886a-8476427bdee5 button');\n",
              "      quickchartButtonEl.style.display =\n",
              "        google.colab.kernel.accessAllowed ? 'block' : 'none';\n",
              "    })();\n",
              "  </script>\n",
              "</div>\n",
              "\n",
              "    </div>\n",
              "  </div>\n"
            ],
            "application/vnd.google.colaboratory.intrinsic+json": {
              "type": "dataframe",
              "repr_error": "0"
            }
          },
          "metadata": {},
          "execution_count": 12
        }
      ]
    },
    {
      "cell_type": "code",
      "source": [
        "final_merged_df.isnull().sum()"
      ],
      "metadata": {
        "colab": {
          "base_uri": "https://localhost:8080/",
          "height": 335
        },
        "id": "P89C4_G0ymza",
        "outputId": "16cf4800-99c6-4a31-cfd0-a394699c0786"
      },
      "execution_count": 13,
      "outputs": [
        {
          "output_type": "execute_result",
          "data": {
            "text/plain": [
              "DATE              0\n",
              "CSUSHPISA         0\n",
              "EVACANTUSQ176N    0\n",
              "GDP               0\n",
              "INTDSRUSM193N     0\n",
              "MSACSR            0\n",
              "PERMIT            0\n",
              "UMCSENT           0\n",
              "dtype: int64"
            ],
            "text/html": [
              "<div>\n",
              "<style scoped>\n",
              "    .dataframe tbody tr th:only-of-type {\n",
              "        vertical-align: middle;\n",
              "    }\n",
              "\n",
              "    .dataframe tbody tr th {\n",
              "        vertical-align: top;\n",
              "    }\n",
              "\n",
              "    .dataframe thead th {\n",
              "        text-align: right;\n",
              "    }\n",
              "</style>\n",
              "<table border=\"1\" class=\"dataframe\">\n",
              "  <thead>\n",
              "    <tr style=\"text-align: right;\">\n",
              "      <th></th>\n",
              "      <th>0</th>\n",
              "    </tr>\n",
              "  </thead>\n",
              "  <tbody>\n",
              "    <tr>\n",
              "      <th>DATE</th>\n",
              "      <td>0</td>\n",
              "    </tr>\n",
              "    <tr>\n",
              "      <th>CSUSHPISA</th>\n",
              "      <td>0</td>\n",
              "    </tr>\n",
              "    <tr>\n",
              "      <th>EVACANTUSQ176N</th>\n",
              "      <td>0</td>\n",
              "    </tr>\n",
              "    <tr>\n",
              "      <th>GDP</th>\n",
              "      <td>0</td>\n",
              "    </tr>\n",
              "    <tr>\n",
              "      <th>INTDSRUSM193N</th>\n",
              "      <td>0</td>\n",
              "    </tr>\n",
              "    <tr>\n",
              "      <th>MSACSR</th>\n",
              "      <td>0</td>\n",
              "    </tr>\n",
              "    <tr>\n",
              "      <th>PERMIT</th>\n",
              "      <td>0</td>\n",
              "    </tr>\n",
              "    <tr>\n",
              "      <th>UMCSENT</th>\n",
              "      <td>0</td>\n",
              "    </tr>\n",
              "  </tbody>\n",
              "</table>\n",
              "</div><br><label><b>dtype:</b> int64</label>"
            ]
          },
          "metadata": {},
          "execution_count": 13
        }
      ]
    },
    {
      "cell_type": "code",
      "source": [
        "final_merged_df.to_csv('USHousing')"
      ],
      "metadata": {
        "id": "4dJtTLsbCDZC"
      },
      "execution_count": 14,
      "outputs": []
    }
  ]
}