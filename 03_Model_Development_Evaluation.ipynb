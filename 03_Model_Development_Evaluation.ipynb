{
  "nbformat": 4,
  "nbformat_minor": 0,
  "metadata": {
    "colab": {
      "provenance": [],
      "authorship_tag": "ABX9TyMcIaqrN3HY7N9atDEu7Zob",
      "include_colab_link": true
    },
    "kernelspec": {
      "name": "python3",
      "display_name": "Python 3"
    },
    "language_info": {
      "name": "python"
    }
  },
  "cells": [
    {
      "cell_type": "markdown",
      "metadata": {
        "id": "view-in-github",
        "colab_type": "text"
      },
      "source": [
        "<a href=\"https://colab.research.google.com/github/SarkarPriyanshu/USHousingMarketAnalysis/blob/main/03_Model_Development_Evaluation.ipynb\" target=\"_parent\"><img src=\"https://colab.research.google.com/assets/colab-badge.svg\" alt=\"Open In Colab\"/></a>"
      ]
    },
    {
      "cell_type": "code",
      "source": [
        "!pip install -q feature-engine"
      ],
      "metadata": {
        "id": "o_WSrz1y8kNO"
      },
      "execution_count": 19,
      "outputs": []
    },
    {
      "cell_type": "code",
      "execution_count": 59,
      "metadata": {
        "id": "Aybil8Hf6fu1"
      },
      "outputs": [],
      "source": [
        "# Import necessary libraries\n",
        "import pandas as pd\n",
        "import numpy as np\n",
        "import scipy.stats as stats\n",
        "\n",
        "from sklearn.pipeline import Pipeline\n",
        "from sklearn.model_selection import train_test_split\n",
        "from sklearn.preprocessing import StandardScaler\n",
        "from feature_engine.transformation import BoxCoxTransformer\n",
        "from sklearn.linear_model import LinearRegression,BayesianRidge,LassoLars,SGDRegressor\n",
        "from sklearn.svm import SVR\n",
        "from sklearn.metrics import mean_squared_error,r2_score\n",
        "\n",
        "# Ignore warnings for cleaner output\n",
        "import warnings\n",
        "warnings.filterwarnings('ignore')\n"
      ]
    },
    {
      "cell_type": "code",
      "source": [
        "df = pd.read_csv('/content/USHousing',parse_dates=['DATE']).iloc[:,2:]"
      ],
      "metadata": {
        "id": "fIZWR5F38KSM"
      },
      "execution_count": 21,
      "outputs": []
    },
    {
      "cell_type": "code",
      "source": [
        "df.shape"
      ],
      "metadata": {
        "colab": {
          "base_uri": "https://localhost:8080/"
        },
        "id": "KMRln27u93CA",
        "outputId": "8492cd38-d82b-4a1d-cded-06bfe92ce5b1"
      },
      "execution_count": 22,
      "outputs": [
        {
          "output_type": "execute_result",
          "data": {
            "text/plain": [
              "(86, 8)"
            ]
          },
          "metadata": {},
          "execution_count": 22
        }
      ]
    },
    {
      "cell_type": "code",
      "source": [
        "df.sample(5)"
      ],
      "metadata": {
        "colab": {
          "base_uri": "https://localhost:8080/",
          "height": 206
        },
        "id": "nyYkecWG911n",
        "outputId": "dab08af1-8f59-48b3-c5a2-2e0e9f1d6988"
      },
      "execution_count": 23,
      "outputs": [
        {
          "output_type": "execute_result",
          "data": {
            "text/plain": [
              "    CSUSHPISA  EVACANTUSQ176N        GDP  INTDSRUSM193N  MSACSR  PERMIT  \\\n",
              "47    136.607         18476.0  16068.805           0.75     5.3   712.0   \n",
              "83    239.559         15602.0  22600.185           0.25     4.0  1866.0   \n",
              "48    139.154         18519.0  16207.115           0.75     4.9   732.0   \n",
              "18    155.750         15361.0  12527.214           2.75     3.9  2097.0   \n",
              "11    128.461         14908.0  11174.129           2.25     4.0  1808.0   \n",
              "\n",
              "    UMCSENT     MSPUS  \n",
              "47     75.0  238400.0  \n",
              "83     79.0  369800.0  \n",
              "48     76.4  238700.0  \n",
              "18     91.7  228800.0  \n",
              "11     82.4  186000.0  "
            ],
            "text/html": [
              "\n",
              "  <div id=\"df-d963083c-7605-4feb-85e1-84c49253f08a\" class=\"colab-df-container\">\n",
              "    <div>\n",
              "<style scoped>\n",
              "    .dataframe tbody tr th:only-of-type {\n",
              "        vertical-align: middle;\n",
              "    }\n",
              "\n",
              "    .dataframe tbody tr th {\n",
              "        vertical-align: top;\n",
              "    }\n",
              "\n",
              "    .dataframe thead th {\n",
              "        text-align: right;\n",
              "    }\n",
              "</style>\n",
              "<table border=\"1\" class=\"dataframe\">\n",
              "  <thead>\n",
              "    <tr style=\"text-align: right;\">\n",
              "      <th></th>\n",
              "      <th>CSUSHPISA</th>\n",
              "      <th>EVACANTUSQ176N</th>\n",
              "      <th>GDP</th>\n",
              "      <th>INTDSRUSM193N</th>\n",
              "      <th>MSACSR</th>\n",
              "      <th>PERMIT</th>\n",
              "      <th>UMCSENT</th>\n",
              "      <th>MSPUS</th>\n",
              "    </tr>\n",
              "  </thead>\n",
              "  <tbody>\n",
              "    <tr>\n",
              "      <th>47</th>\n",
              "      <td>136.607</td>\n",
              "      <td>18476.0</td>\n",
              "      <td>16068.805</td>\n",
              "      <td>0.75</td>\n",
              "      <td>5.3</td>\n",
              "      <td>712.0</td>\n",
              "      <td>75.0</td>\n",
              "      <td>238400.0</td>\n",
              "    </tr>\n",
              "    <tr>\n",
              "      <th>83</th>\n",
              "      <td>239.559</td>\n",
              "      <td>15602.0</td>\n",
              "      <td>22600.185</td>\n",
              "      <td>0.25</td>\n",
              "      <td>4.0</td>\n",
              "      <td>1866.0</td>\n",
              "      <td>79.0</td>\n",
              "      <td>369800.0</td>\n",
              "    </tr>\n",
              "    <tr>\n",
              "      <th>48</th>\n",
              "      <td>139.154</td>\n",
              "      <td>18519.0</td>\n",
              "      <td>16207.115</td>\n",
              "      <td>0.75</td>\n",
              "      <td>4.9</td>\n",
              "      <td>732.0</td>\n",
              "      <td>76.4</td>\n",
              "      <td>238700.0</td>\n",
              "    </tr>\n",
              "    <tr>\n",
              "      <th>18</th>\n",
              "      <td>155.750</td>\n",
              "      <td>15361.0</td>\n",
              "      <td>12527.214</td>\n",
              "      <td>2.75</td>\n",
              "      <td>3.9</td>\n",
              "      <td>2097.0</td>\n",
              "      <td>91.7</td>\n",
              "      <td>228800.0</td>\n",
              "    </tr>\n",
              "    <tr>\n",
              "      <th>11</th>\n",
              "      <td>128.461</td>\n",
              "      <td>14908.0</td>\n",
              "      <td>11174.129</td>\n",
              "      <td>2.25</td>\n",
              "      <td>4.0</td>\n",
              "      <td>1808.0</td>\n",
              "      <td>82.4</td>\n",
              "      <td>186000.0</td>\n",
              "    </tr>\n",
              "  </tbody>\n",
              "</table>\n",
              "</div>\n",
              "    <div class=\"colab-df-buttons\">\n",
              "\n",
              "  <div class=\"colab-df-container\">\n",
              "    <button class=\"colab-df-convert\" onclick=\"convertToInteractive('df-d963083c-7605-4feb-85e1-84c49253f08a')\"\n",
              "            title=\"Convert this dataframe to an interactive table.\"\n",
              "            style=\"display:none;\">\n",
              "\n",
              "  <svg xmlns=\"http://www.w3.org/2000/svg\" height=\"24px\" viewBox=\"0 -960 960 960\">\n",
              "    <path d=\"M120-120v-720h720v720H120Zm60-500h600v-160H180v160Zm220 220h160v-160H400v160Zm0 220h160v-160H400v160ZM180-400h160v-160H180v160Zm440 0h160v-160H620v160ZM180-180h160v-160H180v160Zm440 0h160v-160H620v160Z\"/>\n",
              "  </svg>\n",
              "    </button>\n",
              "\n",
              "  <style>\n",
              "    .colab-df-container {\n",
              "      display:flex;\n",
              "      gap: 12px;\n",
              "    }\n",
              "\n",
              "    .colab-df-convert {\n",
              "      background-color: #E8F0FE;\n",
              "      border: none;\n",
              "      border-radius: 50%;\n",
              "      cursor: pointer;\n",
              "      display: none;\n",
              "      fill: #1967D2;\n",
              "      height: 32px;\n",
              "      padding: 0 0 0 0;\n",
              "      width: 32px;\n",
              "    }\n",
              "\n",
              "    .colab-df-convert:hover {\n",
              "      background-color: #E2EBFA;\n",
              "      box-shadow: 0px 1px 2px rgba(60, 64, 67, 0.3), 0px 1px 3px 1px rgba(60, 64, 67, 0.15);\n",
              "      fill: #174EA6;\n",
              "    }\n",
              "\n",
              "    .colab-df-buttons div {\n",
              "      margin-bottom: 4px;\n",
              "    }\n",
              "\n",
              "    [theme=dark] .colab-df-convert {\n",
              "      background-color: #3B4455;\n",
              "      fill: #D2E3FC;\n",
              "    }\n",
              "\n",
              "    [theme=dark] .colab-df-convert:hover {\n",
              "      background-color: #434B5C;\n",
              "      box-shadow: 0px 1px 3px 1px rgba(0, 0, 0, 0.15);\n",
              "      filter: drop-shadow(0px 1px 2px rgba(0, 0, 0, 0.3));\n",
              "      fill: #FFFFFF;\n",
              "    }\n",
              "  </style>\n",
              "\n",
              "    <script>\n",
              "      const buttonEl =\n",
              "        document.querySelector('#df-d963083c-7605-4feb-85e1-84c49253f08a button.colab-df-convert');\n",
              "      buttonEl.style.display =\n",
              "        google.colab.kernel.accessAllowed ? 'block' : 'none';\n",
              "\n",
              "      async function convertToInteractive(key) {\n",
              "        const element = document.querySelector('#df-d963083c-7605-4feb-85e1-84c49253f08a');\n",
              "        const dataTable =\n",
              "          await google.colab.kernel.invokeFunction('convertToInteractive',\n",
              "                                                    [key], {});\n",
              "        if (!dataTable) return;\n",
              "\n",
              "        const docLinkHtml = 'Like what you see? Visit the ' +\n",
              "          '<a target=\"_blank\" href=https://colab.research.google.com/notebooks/data_table.ipynb>data table notebook</a>'\n",
              "          + ' to learn more about interactive tables.';\n",
              "        element.innerHTML = '';\n",
              "        dataTable['output_type'] = 'display_data';\n",
              "        await google.colab.output.renderOutput(dataTable, element);\n",
              "        const docLink = document.createElement('div');\n",
              "        docLink.innerHTML = docLinkHtml;\n",
              "        element.appendChild(docLink);\n",
              "      }\n",
              "    </script>\n",
              "  </div>\n",
              "\n",
              "\n",
              "<div id=\"df-1d43c0eb-7e3b-43d6-a352-3dfab5946dff\">\n",
              "  <button class=\"colab-df-quickchart\" onclick=\"quickchart('df-1d43c0eb-7e3b-43d6-a352-3dfab5946dff')\"\n",
              "            title=\"Suggest charts\"\n",
              "            style=\"display:none;\">\n",
              "\n",
              "<svg xmlns=\"http://www.w3.org/2000/svg\" height=\"24px\"viewBox=\"0 0 24 24\"\n",
              "     width=\"24px\">\n",
              "    <g>\n",
              "        <path d=\"M19 3H5c-1.1 0-2 .9-2 2v14c0 1.1.9 2 2 2h14c1.1 0 2-.9 2-2V5c0-1.1-.9-2-2-2zM9 17H7v-7h2v7zm4 0h-2V7h2v10zm4 0h-2v-4h2v4z\"/>\n",
              "    </g>\n",
              "</svg>\n",
              "  </button>\n",
              "\n",
              "<style>\n",
              "  .colab-df-quickchart {\n",
              "      --bg-color: #E8F0FE;\n",
              "      --fill-color: #1967D2;\n",
              "      --hover-bg-color: #E2EBFA;\n",
              "      --hover-fill-color: #174EA6;\n",
              "      --disabled-fill-color: #AAA;\n",
              "      --disabled-bg-color: #DDD;\n",
              "  }\n",
              "\n",
              "  [theme=dark] .colab-df-quickchart {\n",
              "      --bg-color: #3B4455;\n",
              "      --fill-color: #D2E3FC;\n",
              "      --hover-bg-color: #434B5C;\n",
              "      --hover-fill-color: #FFFFFF;\n",
              "      --disabled-bg-color: #3B4455;\n",
              "      --disabled-fill-color: #666;\n",
              "  }\n",
              "\n",
              "  .colab-df-quickchart {\n",
              "    background-color: var(--bg-color);\n",
              "    border: none;\n",
              "    border-radius: 50%;\n",
              "    cursor: pointer;\n",
              "    display: none;\n",
              "    fill: var(--fill-color);\n",
              "    height: 32px;\n",
              "    padding: 0;\n",
              "    width: 32px;\n",
              "  }\n",
              "\n",
              "  .colab-df-quickchart:hover {\n",
              "    background-color: var(--hover-bg-color);\n",
              "    box-shadow: 0 1px 2px rgba(60, 64, 67, 0.3), 0 1px 3px 1px rgba(60, 64, 67, 0.15);\n",
              "    fill: var(--button-hover-fill-color);\n",
              "  }\n",
              "\n",
              "  .colab-df-quickchart-complete:disabled,\n",
              "  .colab-df-quickchart-complete:disabled:hover {\n",
              "    background-color: var(--disabled-bg-color);\n",
              "    fill: var(--disabled-fill-color);\n",
              "    box-shadow: none;\n",
              "  }\n",
              "\n",
              "  .colab-df-spinner {\n",
              "    border: 2px solid var(--fill-color);\n",
              "    border-color: transparent;\n",
              "    border-bottom-color: var(--fill-color);\n",
              "    animation:\n",
              "      spin 1s steps(1) infinite;\n",
              "  }\n",
              "\n",
              "  @keyframes spin {\n",
              "    0% {\n",
              "      border-color: transparent;\n",
              "      border-bottom-color: var(--fill-color);\n",
              "      border-left-color: var(--fill-color);\n",
              "    }\n",
              "    20% {\n",
              "      border-color: transparent;\n",
              "      border-left-color: var(--fill-color);\n",
              "      border-top-color: var(--fill-color);\n",
              "    }\n",
              "    30% {\n",
              "      border-color: transparent;\n",
              "      border-left-color: var(--fill-color);\n",
              "      border-top-color: var(--fill-color);\n",
              "      border-right-color: var(--fill-color);\n",
              "    }\n",
              "    40% {\n",
              "      border-color: transparent;\n",
              "      border-right-color: var(--fill-color);\n",
              "      border-top-color: var(--fill-color);\n",
              "    }\n",
              "    60% {\n",
              "      border-color: transparent;\n",
              "      border-right-color: var(--fill-color);\n",
              "    }\n",
              "    80% {\n",
              "      border-color: transparent;\n",
              "      border-right-color: var(--fill-color);\n",
              "      border-bottom-color: var(--fill-color);\n",
              "    }\n",
              "    90% {\n",
              "      border-color: transparent;\n",
              "      border-bottom-color: var(--fill-color);\n",
              "    }\n",
              "  }\n",
              "</style>\n",
              "\n",
              "  <script>\n",
              "    async function quickchart(key) {\n",
              "      const quickchartButtonEl =\n",
              "        document.querySelector('#' + key + ' button');\n",
              "      quickchartButtonEl.disabled = true;  // To prevent multiple clicks.\n",
              "      quickchartButtonEl.classList.add('colab-df-spinner');\n",
              "      try {\n",
              "        const charts = await google.colab.kernel.invokeFunction(\n",
              "            'suggestCharts', [key], {});\n",
              "      } catch (error) {\n",
              "        console.error('Error during call to suggestCharts:', error);\n",
              "      }\n",
              "      quickchartButtonEl.classList.remove('colab-df-spinner');\n",
              "      quickchartButtonEl.classList.add('colab-df-quickchart-complete');\n",
              "    }\n",
              "    (() => {\n",
              "      let quickchartButtonEl =\n",
              "        document.querySelector('#df-1d43c0eb-7e3b-43d6-a352-3dfab5946dff button');\n",
              "      quickchartButtonEl.style.display =\n",
              "        google.colab.kernel.accessAllowed ? 'block' : 'none';\n",
              "    })();\n",
              "  </script>\n",
              "</div>\n",
              "    </div>\n",
              "  </div>\n"
            ]
          },
          "metadata": {},
          "execution_count": 23
        }
      ]
    },
    {
      "cell_type": "markdown",
      "source": [
        "# Model Development"
      ],
      "metadata": {
        "id": "KkM_1S3bG978"
      }
    },
    {
      "cell_type": "code",
      "source": [
        "# Splitting the dataset into features (X) and target variable (y)\n",
        "\n",
        "data_boxcox, lambda_boxcox = stats.boxcox(df['CSUSHPISA'])\n",
        "X, y = df.drop('CSUSHPISA', axis=1), data_boxcox\n",
        "\n",
        "# Splitting the data into training and testing sets\n",
        "# The test set will be 30% of the data, using a random state for reproducibility\n",
        "X_train, X_test, y_train, y_test = train_test_split(X, y, test_size=0.3, random_state=101)\n"
      ],
      "metadata": {
        "id": "JMKXICp79vmh"
      },
      "execution_count": 38,
      "outputs": []
    },
    {
      "cell_type": "code",
      "source": [
        "X_train.shape, X_test.shape, y_train.shape, y_test.shape"
      ],
      "metadata": {
        "colab": {
          "base_uri": "https://localhost:8080/"
        },
        "id": "L6J6Nn-G-K7Q",
        "outputId": "e86ea8d5-4424-4cd4-be80-8318e49da19c"
      },
      "execution_count": 39,
      "outputs": [
        {
          "output_type": "execute_result",
          "data": {
            "text/plain": [
              "((60, 7), (26, 7), (60,), (26,))"
            ]
          },
          "metadata": {},
          "execution_count": 39
        }
      ]
    },
    {
      "cell_type": "code",
      "source": [
        "models_list = [{'LinearRegression':LinearRegression()},{'BayesianRidge':BayesianRidge()},{'LassoLars':LassoLars()},{'SGDRegressor':SGDRegressor()},{'SVR':SVR()}]"
      ],
      "metadata": {
        "id": "7KzM70ex6yfo"
      },
      "execution_count": 62,
      "outputs": []
    },
    {
      "cell_type": "code",
      "source": [
        "# Initialize an empty list to store results\n",
        "results_list = list()\n",
        "\n",
        "# Loop through models_list\n",
        "for model_info in models_list:\n",
        "  # Create a pipeline for each model\n",
        "  pipe = Pipeline([\n",
        "        # Apply BoxCoxTransformer to variables in df columns\n",
        "        ('BoxCoxTransformer', BoxCoxTransformer(variables=list(df.columns[1:]))),\n",
        "        # Standardize the features\n",
        "        ('StandardScaler', StandardScaler()),\n",
        "        # Add the specific model to the pipeline\n",
        "        (list(model_info.keys())[0], list(model_info.values())[0])  # model_info[0] is the model name, model_info[-1] is the model object\n",
        "  ])\n",
        "\n",
        "  # Fit the pipeline on training data\n",
        "  pipe.fit(X_train, y_train)\n",
        "\n",
        "  # Make predictions on training and test data\n",
        "  X_train_predictions = pipe.predict(X_train)\n",
        "  X_test_predictions = pipe.predict(X_test)\n",
        "\n",
        "  # Store model name and its performance metrics in results_list\n",
        "  results_list.append({\n",
        "        'Model Name': list(model_info.keys())[0],\n",
        "        'Train Data R2': r2_score(y_train, X_train_predictions),\n",
        "        'Test Data R2': r2_score(y_test, X_test_predictions),\n",
        "        'R2 Diff': r2_score(y_train, X_train_predictions) - r2_score(y_test, X_test_predictions),\n",
        "        'Train Data RMSE': mean_squared_error(y_train, X_train_predictions,squared=True),\n",
        "        'Test Data RMSE': mean_squared_error(y_test, X_test_predictions,squared=True),\n",
        "        'RMSE Diff': mean_squared_error(y_train, X_train_predictions,squared=True) -  mean_squared_error(y_test, X_test_predictions,squared=True)\n",
        "  })\n"
      ],
      "metadata": {
        "id": "NSQIjiRN9Q6U"
      },
      "execution_count": 63,
      "outputs": []
    },
    {
      "cell_type": "code",
      "source": [
        "# Initializing variables to track the best models and their respective metrics\n",
        "\n",
        "# Loop through the results_list to analyze model performance\n",
        "for result in results_list:\n",
        "    # Display performance metrics for each model\n",
        "    print(f\"Name: {result['Model Name']:{25}} TrainR2: {np.round(result['Train Data R2'],2)}, TestR2: {np.round(result['Test Data R2'],2)}, DiffR2: {np.round(result['R2 Diff'],2)}\")\n",
        "    print(f\"Name: {result['Model Name']:{25}} TrainRMSE: {np.round(result['Train Data RMSE'],2)}, TestRMSE: {np.round(result['Test Data RMSE'],2)}, DiffRMSE: {np.round(result['RMSE Diff'],2)}\")\n",
        "    print()\n",
        "    print()\n"
      ],
      "metadata": {
        "colab": {
          "base_uri": "https://localhost:8080/"
        },
        "id": "41jliIlzAcO8",
        "outputId": "d6558b0a-35e5-40ff-feef-6c1753d83f34"
      },
      "execution_count": 64,
      "outputs": [
        {
          "output_type": "stream",
          "name": "stdout",
          "text": [
            "Name: LinearRegression          TrainR2: 0.97, TestR2: 0.95, DiffR2: 0.02\n",
            "Name: LinearRegression          TrainRMSE: 0.01, TestRMSE: 0.01, DiffRMSE: -0.0\n",
            "\n",
            "\n",
            "Name: BayesianRidge             TrainR2: 0.97, TestR2: 0.95, DiffR2: 0.02\n",
            "Name: BayesianRidge             TrainRMSE: 0.01, TestRMSE: 0.01, DiffRMSE: -0.0\n",
            "\n",
            "\n",
            "Name: LassoLars                 TrainR2: 0.0, TestR2: -0.07, DiffR2: 0.07\n",
            "Name: LassoLars                 TrainRMSE: 0.24, TestRMSE: 0.2, DiffRMSE: 0.05\n",
            "\n",
            "\n",
            "Name: SGDRegressor              TrainR2: 0.94, TestR2: 0.87, DiffR2: 0.08\n",
            "Name: SGDRegressor              TrainRMSE: 0.01, TestRMSE: 0.02, DiffRMSE: -0.01\n",
            "\n",
            "\n",
            "Name: SVR                       TrainR2: 0.98, TestR2: 0.96, DiffR2: 0.02\n",
            "Name: SVR                       TrainRMSE: 0.01, TestRMSE: 0.01, DiffRMSE: -0.0\n",
            "\n",
            "\n"
          ]
        }
      ]
    },
    {
      "cell_type": "markdown",
      "source": [
        "<blockquote style=\"background-color: #f7dc6f; padding: 10px; border-radius: 5px;\">\n",
        "  <h2 style=\"color: #333;\">Observation Of Model Development</h2>\n",
        "  <ul>\n",
        "    <li><strong>Question: Why not use tree-based or deep neural network?</strong>\n",
        "      <ul>\n",
        "        <li>We do not want to draw decision boundaries because, as we saw while analyzing things like GDP, Median Sales, or Vacant, or any other aspect affects our Target columns.</li>\n",
        "        <li>The point here is in the real world, we can't say things go as we expected. That's why we want our model to learn from real-time data observations and predict outcomes based on that.</li>\n",
        "        <li>In tree-based models, we draw decision boundaries that are good for scenarios with limited possibilities.</li>\n",
        "        <li>Then what is wrong with Neural Network? We want to know which factors affect more or less in predicting outcomes, which is not known if we work with neural networks.</li>\n",
        "        <li>Hence, we go with Linear Models. The advantage is they are less complex, and we say there is a linear correlation between the target and independent columns.</li>\n",
        "        <li>We are going to experement with `Linear Regressor`, `SVM` and `BayesianRidge`</li>\n",
        "      </ul>\n",
        "    </li>\n",
        "  </ul>\n",
        "</blockquote>\n"
      ],
      "metadata": {
        "id": "PjF-ZnQgG7x_"
      }
    }
  ]
}